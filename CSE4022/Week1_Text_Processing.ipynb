{
 "cells": [
  {
   "cell_type": "code",
   "execution_count": 2,
   "metadata": {},
   "outputs": [
    {
     "name": "stdout",
     "output_type": "stream",
     "text": [
      "showing info https://raw.githubusercontent.com/nltk/nltk_data/gh-pages/index.xml\n"
     ]
    },
    {
     "data": {
      "text/plain": [
       "True"
      ]
     },
     "execution_count": 2,
     "metadata": {},
     "output_type": "execute_result"
    }
   ],
   "source": [
    "import nltk\n",
    "nltk.download()"
   ]
  },
  {
   "cell_type": "markdown",
   "metadata": {},
   "source": [
    "<h3>Task 1: LEXICONS (List of words / Vocab) </h3>\n",
    "\n",
    "1. Stop Words.\n",
    "2. CMU Wordlist.\n",
    "3. Wordnet\n"
   ]
  },
  {
   "cell_type": "code",
   "execution_count": 5,
   "metadata": {},
   "outputs": [
    {
     "name": "stdout",
     "output_type": "stream",
     "text": [
      "{\"wasn't\", 'how', 'him', 'whom', 'she', 'some', \"aren't\", \"you're\", 'both', 'as', 'from', 'ourselves', \"shouldn't\", 'then', 'myself', 'had', 'above', 'between', 'herself', 'in', 'm', 'which', 'shouldn', \"isn't\", 'this', 'their', 'out', 'd', 'a', 've', 'our', 'does', 'has', 'under', 'mustn', 'why', 'no', 'just', 'did', 'all', 'ours', 'me', 'don', 'now', 'won', 'they', 'own', \"mustn't\", 'these', 'few', 'most', 'yourselves', 'yourself', \"hadn't\", 'same', \"didn't\", 'wasn', 'couldn', 'once', 'too', \"weren't\", 'when', 'himself', 'about', 'after', \"haven't\", 'until', 'didn', 'through', 'other', \"wouldn't\", 'its', 'or', 'he', 'are', 'aren', \"won't\", 'do', 'were', 'here', 'i', 'by', 'it', 'can', 'll', 'being', 'hasn', 'only', 'her', \"couldn't\", 'than', 'at', 'up', 'wouldn', 'further', 't', \"you'll\", 'with', 'there', \"don't\", 'during', 'isn', \"it's\", 'nor', 'very', \"doesn't\", 'his', \"should've\", 'again', 'yours', 'such', 'of', 'while', 'mightn', 'if', 'those', 'itself', 'theirs', 'haven', 'ain', 'hers', 'to', \"that'll\", \"you'd\", \"needn't\", 'doing', 'below', 'that', 'and', 'where', 'y', 'doesn', \"mightn't\", \"shan't\", 'having', 'will', 'be', 'is', 'needn', 'over', 'ma', 'been', 'have', 'so', 'down', 'who', 'them', 'before', \"hasn't\", 'weren', 'we', 're', 'into', 'an', 's', 'not', 'against', 'your', 'shan', 'o', 'for', \"you've\", 'any', 'more', 'off', 'hadn', \"she's\", 'but', 'you', 'should', 'each', 'my', 'was', 'because', 'what', 'on', 'themselves', 'the', 'am'}\n"
     ]
    }
   ],
   "source": [
    "from nltk.corpus import stopwords\n",
    "stop_words = set(stopwords.words('english'))\n",
    "print(stop_words)"
   ]
  },
  {
   "cell_type": "code",
   "execution_count": 6,
   "metadata": {},
   "outputs": [
    {
     "name": "stdout",
     "output_type": "stream",
     "text": [
      "133737\n"
     ]
    }
   ],
   "source": [
    "import nltk\n",
    "entries = nltk.corpus.cmudict.entries()\n",
    "print(len(entries))"
   ]
  },
  {
   "cell_type": "code",
   "execution_count": 7,
   "metadata": {},
   "outputs": [
    {
     "name": "stdout",
     "output_type": "stream",
     "text": [
      "[('a', ['AH0']), ('a.', ['EY1']), ('a', ['EY1']), ('a42128', ['EY1', 'F', 'AO1', 'R', 'T', 'UW1', 'W', 'AH1', 'N', 'T', 'UW1', 'EY1', 'T']), ('aaa', ['T', 'R', 'IH2', 'P', 'AH0', 'L', 'EY1']), ('aaberg', ['AA1', 'B', 'ER0', 'G']), ('aachen', ['AA1', 'K', 'AH0', 'N']), ('aachener', ['AA1', 'K', 'AH0', 'N', 'ER0']), ('aaker', ['AA1', 'K', 'ER0']), ('aalseth', ['AA1', 'L', 'S', 'EH0', 'TH']), ('aamodt', ['AA1', 'M', 'AH0', 'T']), ('aancor', ['AA1', 'N', 'K', 'AO2', 'R']), ('aardema', ['AA0', 'R', 'D', 'EH1', 'M', 'AH0']), ('aardvark', ['AA1', 'R', 'D', 'V', 'AA2', 'R', 'K']), ('aaron', ['EH1', 'R', 'AH0', 'N']), (\"aaron's\", ['EH1', 'R', 'AH0', 'N', 'Z']), ('aarons', ['EH1', 'R', 'AH0', 'N', 'Z']), ('aaronson', ['EH1', 'R', 'AH0', 'N', 'S', 'AH0', 'N']), ('aaronson', ['AA1', 'R', 'AH0', 'N', 'S', 'AH0', 'N']), (\"aaronson's\", ['EH1', 'R', 'AH0', 'N', 'S', 'AH0', 'N', 'Z']), (\"aaronson's\", ['AA1', 'R', 'AH0', 'N', 'S', 'AH0', 'N', 'Z']), ('aarti', ['AA1', 'R', 'T', 'IY2']), ('aase', ['AA1', 'S']), ('aasen', ['AA1', 'S', 'AH0', 'N']), ('ab', ['AE1', 'B']), ('ab', ['EY1', 'B', 'IY1']), ('ababa', ['AH0', 'B', 'AA1', 'B', 'AH0']), ('ababa', ['AA1', 'B', 'AH0', 'B', 'AH0']), ('abacha', ['AE1', 'B', 'AH0', 'K', 'AH0']), ('aback', ['AH0', 'B', 'AE1', 'K']), ('abaco', ['AE1', 'B', 'AH0', 'K', 'OW2']), ('abacus', ['AE1', 'B', 'AH0', 'K', 'AH0', 'S']), ('abad', ['AH0', 'B', 'AA1', 'D']), ('abadaka', ['AH0', 'B', 'AE1', 'D', 'AH0', 'K', 'AH0']), ('abadi', ['AH0', 'B', 'AE1', 'D', 'IY0']), ('abadie', ['AH0', 'B', 'AE1', 'D', 'IY0']), ('abair', ['AH0', 'B', 'EH1', 'R']), ('abalkin', ['AH0', 'B', 'AA1', 'L', 'K', 'IH0', 'N']), ('abalone', ['AE2', 'B', 'AH0', 'L', 'OW1', 'N', 'IY0']), ('abalos', ['AA0', 'B', 'AA1', 'L', 'OW0', 'Z']), ('abandon', ['AH0', 'B', 'AE1', 'N', 'D', 'AH0', 'N']), ('abandoned', ['AH0', 'B', 'AE1', 'N', 'D', 'AH0', 'N', 'D']), ('abandoning', ['AH0', 'B', 'AE1', 'N', 'D', 'AH0', 'N', 'IH0', 'NG']), ('abandonment', ['AH0', 'B', 'AE1', 'N', 'D', 'AH0', 'N', 'M', 'AH0', 'N', 'T']), ('abandonments', ['AH0', 'B', 'AE1', 'N', 'D', 'AH0', 'N', 'M', 'AH0', 'N', 'T', 'S']), ('abandons', ['AH0', 'B', 'AE1', 'N', 'D', 'AH0', 'N', 'Z']), ('abanto', ['AH0', 'B', 'AE1', 'N', 'T', 'OW0']), ('abarca', ['AH0', 'B', 'AA1', 'R', 'K', 'AH0']), ('abare', ['AA0', 'B', 'AA1', 'R', 'IY0']), ('abascal', ['AE1', 'B', 'AH0', 'S', 'K', 'AH0', 'L'])]\n"
     ]
    }
   ],
   "source": [
    "print(entries[:50])"
   ]
  },
  {
   "cell_type": "code",
   "execution_count": 8,
   "metadata": {},
   "outputs": [
    {
     "data": {
      "text/plain": [
       "[Synset('car.n.01')]"
      ]
     },
     "execution_count": 8,
     "metadata": {},
     "output_type": "execute_result"
    }
   ],
   "source": [
    "from nltk.corpus import wordnet as wn\n",
    "wn.synsets('motorcar')"
   ]
  },
  {
   "cell_type": "code",
   "execution_count": 9,
   "metadata": {},
   "outputs": [
    {
     "data": {
      "text/plain": [
       "['car', 'auto', 'automobile', 'machine', 'motorcar']"
      ]
     },
     "execution_count": 9,
     "metadata": {},
     "output_type": "execute_result"
    }
   ],
   "source": [
    "wn.synset('car.n.01').lemma_names()"
   ]
  },
  {
   "cell_type": "code",
   "execution_count": 13,
   "metadata": {},
   "outputs": [
    {
     "data": {
      "text/plain": [
       "[Synset('gym_shoe.n.01'), Synset('fink.n.01')]"
      ]
     },
     "execution_count": 13,
     "metadata": {},
     "output_type": "execute_result"
    }
   ],
   "source": [
    "wn.synsets('sneaker')"
   ]
  },
  {
   "cell_type": "code",
   "execution_count": 14,
   "metadata": {},
   "outputs": [
    {
     "data": {
      "text/plain": [
       "['gym_shoe', 'sneaker', 'tennis_shoe']"
      ]
     },
     "execution_count": 14,
     "metadata": {},
     "output_type": "execute_result"
    }
   ],
   "source": [
    "wn.synset('gym_shoe.n.01').lemma_names()"
   ]
  },
  {
   "cell_type": "markdown",
   "metadata": {},
   "source": [
    "<h3>Task 2: Stemming</h3>\n",
    "\n",
    "1. Porter Stemmer.\n",
    "2. Lancaster Stemmer.\n",
    "3. Regexp Stemmer."
   ]
  },
  {
   "cell_type": "code",
   "execution_count": 16,
   "metadata": {},
   "outputs": [
    {
     "data": {
      "text/plain": [
       "'happi'"
      ]
     },
     "execution_count": 16,
     "metadata": {},
     "output_type": "execute_result"
    }
   ],
   "source": [
    "from nltk.stem import PorterStemmer\n",
    "stemmerporter = PorterStemmer()\n",
    "stemmerporter.stem('happiness')"
   ]
  },
  {
   "cell_type": "code",
   "execution_count": 17,
   "metadata": {},
   "outputs": [
    {
     "data": {
      "text/plain": [
       "'greedi'"
      ]
     },
     "execution_count": 17,
     "metadata": {},
     "output_type": "execute_result"
    }
   ],
   "source": [
    "stemmerporter.stem('greedy')"
   ]
  },
  {
   "cell_type": "code",
   "execution_count": 18,
   "metadata": {},
   "outputs": [
    {
     "data": {
      "text/plain": [
       "'happy'"
      ]
     },
     "execution_count": 18,
     "metadata": {},
     "output_type": "execute_result"
    }
   ],
   "source": [
    "from nltk.stem import LancasterStemmer\n",
    "stemmerlancaster = LancasterStemmer()\n",
    "stemmerlancaster.stem('happyness')"
   ]
  },
  {
   "cell_type": "code",
   "execution_count": 19,
   "metadata": {},
   "outputs": [
    {
     "data": {
      "text/plain": [
       "'greedy'"
      ]
     },
     "execution_count": 19,
     "metadata": {},
     "output_type": "execute_result"
    }
   ],
   "source": [
    "stemmerlancaster.stem('greedy')"
   ]
  },
  {
   "cell_type": "code",
   "execution_count": 20,
   "metadata": {},
   "outputs": [
    {
     "data": {
      "text/plain": [
       "'play'"
      ]
     },
     "execution_count": 20,
     "metadata": {},
     "output_type": "execute_result"
    }
   ],
   "source": [
    "from nltk.stem import RegexpStemmer\n",
    "stemmerregexp = RegexpStemmer('ing')\n",
    "stemmerregexp.stem('playing')"
   ]
  },
  {
   "cell_type": "code",
   "execution_count": 22,
   "metadata": {},
   "outputs": [
    {
     "data": {
      "text/plain": [
       "'s'"
      ]
     },
     "execution_count": 22,
     "metadata": {},
     "output_type": "execute_result"
    }
   ],
   "source": [
    "stemmerregexp.stem('singing')"
   ]
  },
  {
   "cell_type": "code",
   "execution_count": 24,
   "metadata": {},
   "outputs": [
    {
     "data": {
      "text/plain": [
       "'mang'"
      ]
     },
     "execution_count": 24,
     "metadata": {},
     "output_type": "execute_result"
    }
   ],
   "source": [
    "from nltk.stem import SnowballStemmer\n",
    "snowballStemmer = SnowballStemmer('french')\n",
    "snowballStemmer.stem('manges')"
   ]
  },
  {
   "cell_type": "code",
   "execution_count": 26,
   "metadata": {},
   "outputs": [],
   "source": [
    "example = \"A quick brown fox jumps over a lazy dog\"\n",
    "example = [stemmerporter.stem(token) for token in example.split()]"
   ]
  },
  {
   "cell_type": "code",
   "execution_count": 28,
   "metadata": {},
   "outputs": [
    {
     "name": "stdout",
     "output_type": "stream",
     "text": [
      "A quick brown fox jump over a lazi dog\n"
     ]
    }
   ],
   "source": [
    "print(\" \".join(example))"
   ]
  },
  {
   "cell_type": "code",
   "execution_count": 30,
   "metadata": {},
   "outputs": [
    {
     "name": "stdout",
     "output_type": "stream",
     "text": [
      "I am learn natur languag processing.\n"
     ]
    }
   ],
   "source": [
    "example = \"I am learning Natural language processing.\"\n",
    "example = [stemmerporter.stem(token) for token in example.split()]\n",
    "print(\" \".join(example))"
   ]
  },
  {
   "cell_type": "code",
   "execution_count": null,
   "metadata": {},
   "outputs": [],
   "source": []
  }
 ],
 "metadata": {
  "kernelspec": {
   "display_name": "Python 3",
   "language": "python",
   "name": "python3"
  },
  "language_info": {
   "codemirror_mode": {
    "name": "ipython",
    "version": 3
   },
   "file_extension": ".py",
   "mimetype": "text/x-python",
   "name": "python",
   "nbconvert_exporter": "python",
   "pygments_lexer": "ipython3",
   "version": "3.7.7"
  }
 },
 "nbformat": 4,
 "nbformat_minor": 4
}
